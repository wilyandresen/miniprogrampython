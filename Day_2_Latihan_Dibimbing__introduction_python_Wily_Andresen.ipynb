{
  "cells": [
    {
      "cell_type": "markdown",
      "id": "39bf7b14",
      "metadata": {
        "id": "39bf7b14"
      },
      "source": [
        "## Buatlah sebuah program yang:\n",
        "\n",
        "   1. Meminta input dari pengguna:\n",
        "\n",
        "       - Nama mahasiswa\n",
        "\n",
        "       - NIM mahasiswa\n",
        "\n",
        "       - Nilai ujian (dalam angka, 0–100)\n",
        "\n",
        "   2. Cek dan tampilkan tipe data dari setiap input.\n",
        "\n",
        "   3. Gunakan if-elif-else untuk menentukan kategori nilai, dengan kriteria sebagai berikut:\n",
        "   \n",
        "```\n",
        "Nilai | Kategori\n",
        "85 - 100 | A (Sangat Baik)\n",
        "75 - 84 | B (Baik)\n",
        "60 - 74 | C (Cukup)\n",
        "40 - 59 | D (Kurang)\n",
        "< 40 | E (Sangat Kurang)\n",
        "```\n",
        "\n",
        "```\n",
        "==== Ekspektasi Output Jawaban : =====\n",
        "Masukkan nama mahasiswa: Sarah\n",
        "Masukkan NIM: 12345678\n",
        "Masukkan nilai ujian (0-100): 81\n",
        "\n",
        "Nama: Sarah (type: <class 'str'>)\n",
        "NIM: 12345678 (type: <class 'str'>)\n",
        "Nilai: 81 (type: <class 'int'>)\n",
        "\n",
        "Hasil Evaluasi:\n",
        "Mahasiswa: Sarah (NIM: 12345678)\n",
        "Nilai Ujian: 81\n",
        "Kategori Nilai: B (Baik)\n",
        "```"
      ]
    },
    {
      "cell_type": "code",
      "execution_count": 3,
      "id": "e2ab644c",
      "metadata": {
        "id": "e2ab644c",
        "colab": {
          "base_uri": "https://localhost:8080/"
        },
        "outputId": "e992f5c0-466e-4d81-df2c-a9cf9fdec679"
      },
      "outputs": [
        {
          "output_type": "stream",
          "name": "stdout",
          "text": [
            "Masukan nama mahasiswa :Wily Andresen\n",
            "Masukan NIM :1515151515\n",
            "Masukan nilai ujian (0-100) :100\n",
            "\n",
            "Nama : Wily Andresen <class 'str'> \n",
            "NIM : 1515151515 <class 'str'> \n",
            "Nilai : 100 <class 'int'>\n",
            "\n",
            "Hasil Evaluasi : \n",
            "Mahasiswa : Wily Andresen (NIM:  1515151515 )\n",
            "Nilai_Ujian : 100\n",
            "Kategori Nilai : A (Sangat Baik)\n"
          ]
        }
      ],
      "source": [
        "Mahasiswa = input(\"Masukan nama mahasiswa :\")\n",
        "NIM = input(\"Masukan NIM :\")\n",
        "Nilai_Ujian = int(input(\"Masukan nilai ujian (0-100) :\"))\n",
        "\n",
        "print('\\nNama :', Mahasiswa,type(Mahasiswa),\n",
        "      '\\nNIM :',NIM,type(NIM),\n",
        "      '\\nNilai :',Nilai_Ujian,type(Nilai_Ujian))\n",
        "\n",
        "print('\\nHasil Evaluasi :',\n",
        "      '\\nMahasiswa :', Mahasiswa, '(NIM: ', NIM,')'\n",
        "      '\\nNilai_Ujian :', Nilai_Ujian)\n",
        "\n",
        "if Nilai_Ujian >= 85 :\n",
        "  print('Kategori Nilai : A (Sangat Baik)')\n",
        "\n",
        "elif Nilai_Ujian >= 75 :\n",
        "  print('Kategori Nilai : B (Baik)')\n",
        "\n",
        "elif Nilai_Ujian >= 60 :\n",
        "  print('Kategori Nilai : C (Cukup)')\n",
        "\n",
        "elif Nilai_Ujian >= 40 :\n",
        "  print('Kategori Nilai : D (Kurang)')\n",
        "\n",
        "else :\n",
        "  print('Kategori Nilai : E (Sangat Kurang)')"
      ]
    }
  ],
  "metadata": {
    "kernelspec": {
      "display_name": "Python 3 (ipykernel)",
      "language": "python",
      "name": "python3"
    },
    "language_info": {
      "codemirror_mode": {
        "name": "ipython",
        "version": 3
      },
      "file_extension": ".py",
      "mimetype": "text/x-python",
      "name": "python",
      "nbconvert_exporter": "python",
      "pygments_lexer": "ipython3",
      "version": "3.11.4"
    },
    "colab": {
      "provenance": []
    }
  },
  "nbformat": 4,
  "nbformat_minor": 5
}